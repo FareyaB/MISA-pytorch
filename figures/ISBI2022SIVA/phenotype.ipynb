{
 "cells": [
  {
   "cell_type": "code",
   "execution_count": 1,
   "metadata": {},
   "outputs": [],
   "source": [
    "import os\n",
    "import glob\n",
    "import numpy as np\n",
    "import pandas as pd\n",
    "import nibabel as nib\n",
    "import scipy.io as sio\n",
    "import seaborn as sns\n",
    "import matplotlib.pyplot as plt\n",
    "import statsmodels.api as sm\n",
    "import statsmodels.formula.api as smf\n",
    "from statsmodels.multivariate.manova import MANOVA\n",
    "from sklearn.svm import SVC\n",
    "from sklearn.linear_model import Lasso\n",
    "from sklearn.linear_model import Ridge\n",
    "from sklearn.model_selection import GridSearchCV\n",
    "from sklearn.model_selection import train_test_split"
   ]
  },
  {
   "cell_type": "code",
   "execution_count": 2,
   "metadata": {},
   "outputs": [],
   "source": [
    "ukb_smri_data_path = \"/Users/xli77/Documents/MIVA/output/UKB_MMIVA_C30_preregSite_SMRI_MancovanOuts_wX_FINAL.mat\"\n",
    "ukb_smri_data = sio.loadmat(ukb_smri_data_path)['MODELUKB0s_ful']\n",
    "ukb_smri_data_array = ukb_smri_data[0][0][0]\n",
    "ukb_smri_data_key = np.squeeze(ukb_smri_data[0][0][3])\n",
    "age_idx = np.where(ukb_smri_data_key==['age_when_attended_assessment_centre_f21003_2_0'])[0][0]\n",
    "sex_idx = np.where(ukb_smri_data_key==['sex_f31_0_0'])[0][0]\n",
    "age = ukb_smri_data_array[:, age_idx]\n",
    "sex = ukb_smri_data_array[:, sex_idx]\n",
    "age_sex = age * sex"
   ]
  },
  {
   "cell_type": "code",
   "execution_count": 3,
   "metadata": {},
   "outputs": [],
   "source": [
    "datapath=\"/Users/xli77/Documents/MISA/results/SIVA/fixedSubspace/um2mm/\"\n",
    "subspace_struct_list=['234111','2222211','333111','441111']\n",
    "\n",
    "Y = np.zeros((4,2,2,12,2907)) # S1-4, UA/MSIVA, M1-2, voxel, source\n",
    "\n",
    "num_iter=21\n",
    "\n",
    "for i,ss in enumerate(subspace_struct_list):\n",
    "\n",
    "    data=sio.loadmat(os.path.join(datapath,f\"subspace_struct_{ss}\",\"um_neuroimaging_Y.mat\"))\n",
    "    Y1=np.squeeze(data['Y1'])\n",
    "\n",
    "    data=sio.loadmat(os.path.join(datapath,f\"subspace_struct_{ss}\",\"ummm_neuroimaging_Y.mat\"))\n",
    "    Y2=np.squeeze(data['Y2'])\n",
    "\n",
    "    Y[i,0,0]=Y1[0]\n",
    "    Y[i,0,1]=Y1[1]\n",
    "    Y[i,1,0]=Y2[0]\n",
    "    Y[i,1,1]=Y2[1]"
   ]
  },
  {
   "cell_type": "code",
   "execution_count": 4,
   "metadata": {},
   "outputs": [
    {
     "data": {
      "text/plain": [
       "((4, 2, 2, 44318, 12), (44318, 12), (44318, 12))"
      ]
     },
     "execution_count": 4,
     "metadata": {},
     "output_type": "execute_result"
    }
   ],
   "source": [
    "A = sio.loadmat(\"/Users/xli77/Documents/MISA/results/SIVA/fixedSubspace/mask/A.mat\")[\"A\"] # S1-4, UA/MSIVA, M1-2, voxel, source\n",
    "A1 = A[1,1,0,:,:] # structure 2, MSIVA, M1, subspace 1\n",
    "A2 = A[1,1,1,:,:] # structure 2, MSIVA, M2, subspace 1\n",
    "\n",
    "A.shape, A1.shape, A2.shape"
   ]
  },
  {
   "cell_type": "code",
   "execution_count": 10,
   "metadata": {},
   "outputs": [
    {
     "name": "stdout",
     "output_type": "stream",
     "text": [
      "(2907, 3) (2907, 24)\n"
     ]
    }
   ],
   "source": [
    "# S2 subspace across two modalities\n",
    "predictor = np.concatenate((np.expand_dims(age,axis=1),np.expand_dims(sex,axis=1),np.expand_dims(age_sex,axis=1)), axis=1)\n",
    "response = np.concatenate((Y[1,1,0,:], Y[1,1,1,:]), axis=0).T\n",
    "print(predictor.shape, response.shape)"
   ]
  },
  {
   "cell_type": "code",
   "execution_count": 5,
   "metadata": {},
   "outputs": [],
   "source": [
    "def zscore(data, axis):\n",
    "    data -= data.mean(axis=axis, keepdims=True)\n",
    "    data /= data.std(axis=axis, keepdims=True)\n",
    "    return np.nan_to_num(data, copy=False)\n",
    "\n",
    "def correlation(matrix1, matrix2):\n",
    "    d1 = matrix1.shape[-1]\n",
    "    d2 = matrix2.shape[-1]\n",
    "\n",
    "    assert d1 == d2\n",
    "    assert matrix1.ndim <= 2\n",
    "    assert matrix2.ndim <= 2\n",
    "    \n",
    "    matrix1 = zscore(matrix1.astype(float), matrix1.ndim - 1) / np.sqrt(d1)\n",
    "    matrix2 = zscore(matrix2.astype(float), matrix2.ndim - 1) / np.sqrt(d2)\n",
    "    \n",
    "    if matrix1.ndim >= matrix2.ndim:\n",
    "        return np.dot(matrix1, matrix2.T)\n",
    "    else:\n",
    "        return np.dot(matrix2, matrix1.T)"
   ]
  },
  {
   "cell_type": "code",
   "execution_count": 11,
   "metadata": {},
   "outputs": [
    {
     "data": {
      "text/html": [
       "<div>\n",
       "<style scoped>\n",
       "    .dataframe tbody tr th:only-of-type {\n",
       "        vertical-align: middle;\n",
       "    }\n",
       "\n",
       "    .dataframe tbody tr th {\n",
       "        vertical-align: top;\n",
       "    }\n",
       "\n",
       "    .dataframe thead th {\n",
       "        text-align: right;\n",
       "    }\n",
       "</style>\n",
       "<table border=\"1\" class=\"dataframe\">\n",
       "  <thead>\n",
       "    <tr style=\"text-align: right;\">\n",
       "      <th></th>\n",
       "      <th>Age</th>\n",
       "      <th>Sex</th>\n",
       "      <th>Age_Sex</th>\n",
       "      <th>M1SCV1</th>\n",
       "      <th>M1SCV2</th>\n",
       "      <th>M1SCV3</th>\n",
       "      <th>M1SCV4</th>\n",
       "      <th>M1SCV5</th>\n",
       "      <th>M1SCV6</th>\n",
       "      <th>M1SCV7</th>\n",
       "      <th>...</th>\n",
       "      <th>M2SCV3</th>\n",
       "      <th>M2SCV4</th>\n",
       "      <th>M2SCV5</th>\n",
       "      <th>M2SCV6</th>\n",
       "      <th>M2SCV7</th>\n",
       "      <th>M2SCV8</th>\n",
       "      <th>M2SCV9</th>\n",
       "      <th>M2SCV10</th>\n",
       "      <th>M2SCV11</th>\n",
       "      <th>M2SCV12</th>\n",
       "    </tr>\n",
       "  </thead>\n",
       "  <tbody>\n",
       "    <tr>\n",
       "      <th>0</th>\n",
       "      <td>52.0</td>\n",
       "      <td>1.0</td>\n",
       "      <td>52.0</td>\n",
       "      <td>-0.744373</td>\n",
       "      <td>-0.014831</td>\n",
       "      <td>2.725441</td>\n",
       "      <td>-3.130108</td>\n",
       "      <td>-0.743085</td>\n",
       "      <td>0.711263</td>\n",
       "      <td>0.982630</td>\n",
       "      <td>...</td>\n",
       "      <td>0.905101</td>\n",
       "      <td>-4.688589</td>\n",
       "      <td>1.545894</td>\n",
       "      <td>0.862613</td>\n",
       "      <td>-0.382749</td>\n",
       "      <td>1.233576</td>\n",
       "      <td>0.360367</td>\n",
       "      <td>-0.948850</td>\n",
       "      <td>-0.740604</td>\n",
       "      <td>-1.480718</td>\n",
       "    </tr>\n",
       "    <tr>\n",
       "      <th>1</th>\n",
       "      <td>58.0</td>\n",
       "      <td>0.0</td>\n",
       "      <td>0.0</td>\n",
       "      <td>3.849157</td>\n",
       "      <td>0.788538</td>\n",
       "      <td>-0.189606</td>\n",
       "      <td>5.001522</td>\n",
       "      <td>1.692831</td>\n",
       "      <td>1.251061</td>\n",
       "      <td>0.305623</td>\n",
       "      <td>...</td>\n",
       "      <td>-0.986274</td>\n",
       "      <td>0.381924</td>\n",
       "      <td>-2.058605</td>\n",
       "      <td>3.226054</td>\n",
       "      <td>2.865676</td>\n",
       "      <td>-0.503773</td>\n",
       "      <td>-0.070533</td>\n",
       "      <td>1.720351</td>\n",
       "      <td>0.042034</td>\n",
       "      <td>0.773175</td>\n",
       "    </tr>\n",
       "    <tr>\n",
       "      <th>2</th>\n",
       "      <td>63.0</td>\n",
       "      <td>1.0</td>\n",
       "      <td>63.0</td>\n",
       "      <td>2.019567</td>\n",
       "      <td>0.641578</td>\n",
       "      <td>0.218308</td>\n",
       "      <td>-2.097338</td>\n",
       "      <td>-1.564189</td>\n",
       "      <td>-1.111780</td>\n",
       "      <td>3.238668</td>\n",
       "      <td>...</td>\n",
       "      <td>-1.819940</td>\n",
       "      <td>-3.231881</td>\n",
       "      <td>-1.349841</td>\n",
       "      <td>2.612795</td>\n",
       "      <td>-2.174093</td>\n",
       "      <td>-0.221382</td>\n",
       "      <td>-2.810719</td>\n",
       "      <td>-1.601670</td>\n",
       "      <td>-0.252891</td>\n",
       "      <td>0.646500</td>\n",
       "    </tr>\n",
       "    <tr>\n",
       "      <th>3</th>\n",
       "      <td>68.0</td>\n",
       "      <td>1.0</td>\n",
       "      <td>68.0</td>\n",
       "      <td>1.090513</td>\n",
       "      <td>0.363112</td>\n",
       "      <td>1.388326</td>\n",
       "      <td>1.629931</td>\n",
       "      <td>-0.339085</td>\n",
       "      <td>2.347692</td>\n",
       "      <td>-0.641168</td>\n",
       "      <td>...</td>\n",
       "      <td>-1.376372</td>\n",
       "      <td>-0.249094</td>\n",
       "      <td>-0.474632</td>\n",
       "      <td>-1.392171</td>\n",
       "      <td>1.123885</td>\n",
       "      <td>-1.742248</td>\n",
       "      <td>-2.902886</td>\n",
       "      <td>-0.192690</td>\n",
       "      <td>-0.610004</td>\n",
       "      <td>-2.534472</td>\n",
       "    </tr>\n",
       "    <tr>\n",
       "      <th>4</th>\n",
       "      <td>67.0</td>\n",
       "      <td>1.0</td>\n",
       "      <td>67.0</td>\n",
       "      <td>1.096157</td>\n",
       "      <td>4.176810</td>\n",
       "      <td>0.261035</td>\n",
       "      <td>-1.457208</td>\n",
       "      <td>-1.231453</td>\n",
       "      <td>-2.161218</td>\n",
       "      <td>1.134822</td>\n",
       "      <td>...</td>\n",
       "      <td>1.465951</td>\n",
       "      <td>0.378329</td>\n",
       "      <td>0.638157</td>\n",
       "      <td>0.011793</td>\n",
       "      <td>0.712127</td>\n",
       "      <td>1.017233</td>\n",
       "      <td>-1.744040</td>\n",
       "      <td>-4.447122</td>\n",
       "      <td>-1.297760</td>\n",
       "      <td>-1.592874</td>\n",
       "    </tr>\n",
       "  </tbody>\n",
       "</table>\n",
       "<p>5 rows × 27 columns</p>\n",
       "</div>"
      ],
      "text/plain": [
       "    Age  Sex  Age_Sex    M1SCV1    M1SCV2    M1SCV3    M1SCV4    M1SCV5  \\\n",
       "0  52.0  1.0     52.0 -0.744373 -0.014831  2.725441 -3.130108 -0.743085   \n",
       "1  58.0  0.0      0.0  3.849157  0.788538 -0.189606  5.001522  1.692831   \n",
       "2  63.0  1.0     63.0  2.019567  0.641578  0.218308 -2.097338 -1.564189   \n",
       "3  68.0  1.0     68.0  1.090513  0.363112  1.388326  1.629931 -0.339085   \n",
       "4  67.0  1.0     67.0  1.096157  4.176810  0.261035 -1.457208 -1.231453   \n",
       "\n",
       "     M1SCV6    M1SCV7  ...    M2SCV3    M2SCV4    M2SCV5    M2SCV6    M2SCV7  \\\n",
       "0  0.711263  0.982630  ...  0.905101 -4.688589  1.545894  0.862613 -0.382749   \n",
       "1  1.251061  0.305623  ... -0.986274  0.381924 -2.058605  3.226054  2.865676   \n",
       "2 -1.111780  3.238668  ... -1.819940 -3.231881 -1.349841  2.612795 -2.174093   \n",
       "3  2.347692 -0.641168  ... -1.376372 -0.249094 -0.474632 -1.392171  1.123885   \n",
       "4 -2.161218  1.134822  ...  1.465951  0.378329  0.638157  0.011793  0.712127   \n",
       "\n",
       "     M2SCV8    M2SCV9   M2SCV10   M2SCV11   M2SCV12  \n",
       "0  1.233576  0.360367 -0.948850 -0.740604 -1.480718  \n",
       "1 -0.503773 -0.070533  1.720351  0.042034  0.773175  \n",
       "2 -0.221382 -2.810719 -1.601670 -0.252891  0.646500  \n",
       "3 -1.742248 -2.902886 -0.192690 -0.610004 -2.534472  \n",
       "4  1.017233 -1.744040 -4.447122 -1.297760 -1.592874  \n",
       "\n",
       "[5 rows x 27 columns]"
      ]
     },
     "execution_count": 11,
     "metadata": {},
     "output_type": "execute_result"
    }
   ],
   "source": [
    "predictor = np.concatenate((np.expand_dims(age,axis=1),np.expand_dims(sex,axis=1),np.expand_dims(age_sex,axis=1)), axis=1)\n",
    "data = np.concatenate((predictor, response), axis=1)\n",
    "\n",
    "data_name = ['Age', 'Sex', 'Age_Sex']\n",
    "for i in range(2):\n",
    "    for j in range(12):\n",
    "        data_name.append(f'M{i+1}SCV{j+1}')\n",
    "\n",
    "df = pd.DataFrame(data, columns=data_name)\n",
    "df.head(5)"
   ]
  },
  {
   "cell_type": "code",
   "execution_count": 6,
   "metadata": {},
   "outputs": [],
   "source": [
    "def age_regression(X_train, X_test, y_train, y_test):\n",
    "    clf = Ridge(alpha=1) \n",
    "    clf.fit(X_train, y_train)\n",
    "    y_pred = clf.predict(X_test)\n",
    "    mae = np.mean(np.abs(y_pred-y_test))\n",
    "    return mae\n",
    "\n",
    "def sex_classification(X_train, X_test, y_train, y_test):\n",
    "    clf = SVC(kernel='linear')\n",
    "    clf.fit(X_train, y_train)\n",
    "    y_pred = clf.predict(X_test)\n",
    "    acc = 1 - np.mean(np.abs(y_pred-y_test))\n",
    "    return acc"
   ]
  },
  {
   "cell_type": "code",
   "execution_count": 8,
   "metadata": {},
   "outputs": [
    {
     "data": {
      "text/plain": [
       "((2907, 4), (4, 44318))"
      ]
     },
     "execution_count": 8,
     "metadata": {},
     "output_type": "execute_result"
    }
   ],
   "source": [
    "i = 0\n",
    "Y1 = np.concatenate((Y[1,1,0,i:i+2], Y[1,1,1,i:i+2]), axis=0).T\n",
    "A1 = np.concatenate((A[1,1,0,:,i:i+2], A[1,1,1,:,i:i+2]), axis=1).T \n",
    "X1 = Y1 @ A1\n",
    "Y1.shape, A1.shape"
   ]
  },
  {
   "cell_type": "code",
   "execution_count": 9,
   "metadata": {},
   "outputs": [],
   "source": [
    "X_train, X_test, y_train, y_test = train_test_split(X1, age, test_size=0.312, random_state=42)"
   ]
  },
  {
   "cell_type": "code",
   "execution_count": 14,
   "metadata": {},
   "outputs": [
    {
     "name": "stderr",
     "output_type": "stream",
     "text": [
      "/Users/xli77/miniconda3/envs/nhpseg/lib/python3.7/site-packages/sklearn/model_selection/_split.py:680: UserWarning: The least populated class in y has only 1 members, which is less than n_splits=10.\n",
      "  UserWarning,\n"
     ]
    },
    {
     "data": {
      "text/plain": [
       "SVC(C=1, kernel='linear')"
      ]
     },
     "execution_count": 14,
     "metadata": {},
     "output_type": "execute_result"
    }
   ],
   "source": [
    "# SVC\n",
    "param_grid= {'kernel': ('linear', 'rbf'),\n",
    "             'C': [1, 10]}\n",
    "base_estimator = SVC(gamma='scale')\n",
    "svc = GridSearchCV(base_estimator, param_grid, cv=5).fit(X_train, y_train)\n",
    "svc.best_estimator_"
   ]
  },
  {
   "cell_type": "code",
   "execution_count": 13,
   "metadata": {},
   "outputs": [
    {
     "data": {
      "text/plain": [
       "Ridge(alpha=1)"
      ]
     },
     "execution_count": 13,
     "metadata": {},
     "output_type": "execute_result"
    }
   ],
   "source": [
    "# Ridge\n",
    "param_grid= {'alpha': [0.1, 0.3, 0.5, 0.7, 1]}\n",
    "base_estimator = Ridge()\n",
    "rr = GridSearchCV(base_estimator, param_grid, cv=5).fit(X_train, y_train)\n",
    "rr.best_estimator_"
   ]
  },
  {
   "cell_type": "code",
   "execution_count": 14,
   "metadata": {},
   "outputs": [
    {
     "data": {
      "text/plain": [
       "Lasso(alpha=0.1)"
      ]
     },
     "execution_count": 14,
     "metadata": {},
     "output_type": "execute_result"
    }
   ],
   "source": [
    "# LASSO\n",
    "param_grid= {'alpha': [0.1, 0.3, 0.5, 0.7, 1]}\n",
    "base_estimator = Lasso()\n",
    "lr = GridSearchCV(base_estimator, param_grid, cv=5).fit(X_train, y_train)\n",
    "lr.best_estimator_"
   ]
  },
  {
   "cell_type": "code",
   "execution_count": 18,
   "metadata": {},
   "outputs": [
    {
     "name": "stdout",
     "output_type": "stream",
     "text": [
      "Subspace 1\n",
      "Age Regression MAE  UA: 5.6883, MA: 5.6405\n",
      "Sex Classification Accuracy  UA: 0.6289, MA: 0.5876\n",
      "Subspace 2\n",
      "Age Regression MAE  UA: 5.6774, MA: 6.1725\n",
      "Sex Classification Accuracy  UA: 0.5653, MA: 0.61\n",
      "Subspace 3\n",
      "Age Regression MAE  UA: 5.8381, MA: 5.9648\n",
      "Sex Classification Accuracy  UA: 0.7595, MA: 0.5842\n",
      "Subspace 4\n",
      "Age Regression MAE  UA: 6.1548, MA: 5.8931\n",
      "Sex Classification Accuracy  UA: 0.5859, MA: 0.8024\n",
      "Subspace 5\n",
      "Age Regression MAE  UA: 5.7194, MA: 5.2504\n",
      "Sex Classification Accuracy  UA: 0.6014, MA: 0.5172\n"
     ]
    }
   ],
   "source": [
    "for i in np.arange(0,10,2):\n",
    "    \n",
    "    # TODO\n",
    "    # cross-validation, 1k test, 10-fold cross-val on 2k\n",
    "    # tune hyperparameters for ridge/LASSO regression \n",
    "\n",
    "    print(f\"Subspace {i//2+1}\")\n",
    "\n",
    "    # unimodal\n",
    "    Y1 = np.concatenate((Y[1,0,0,i:i+2], Y[1,0,1,i:i+2]), axis=0).T\n",
    "    A1 = np.concatenate((A[1,0,0,:,i:i+2], A[1,0,1,:,i:i+2]), axis=1).T \n",
    "    X1 = Y1 @ A1\n",
    "    # X1 = A1 @ Y1 \n",
    "\n",
    "    # multimodal\n",
    "    Y2 = np.concatenate((Y[1,1,0,i:i+2], Y[1,1,1,i:i+2]), axis=0).T\n",
    "    A2 = np.concatenate((A[1,1,0,:,i:i+2], A[1,1,1,:,i:i+2]), axis=1).T \n",
    "    X2 = Y2 @ A2\n",
    "    # X2 = A2 @ Y2 \n",
    "\n",
    "    # X1 = np.concatenate((Y[1,0,0,i:i+2], Y[1,0,1,i:i+2]), axis=0).T\n",
    "    # X2 = np.concatenate((Y[1,1,0,i:i+2], Y[1,1,1,i:i+2]), axis=0).T\n",
    "    \n",
    "    X_train, X_test, y_train, y_test = train_test_split(X1, age, test_size=0.312, random_state=42)\n",
    "    mae = age_regression(X_train, X_test, y_train, y_test)\n",
    "    \n",
    "    X_train, X_test, y_train, y_test = train_test_split(X2, age, test_size=0.312, random_state=42)\n",
    "    mae2 = age_regression(X_train, X_test, y_train, y_test)\n",
    "    print(f\"Age Regression MAE  UA: {round(mae, 4)}, MA: {round(mae2, 4)}\")\n",
    "\n",
    "    X_train, X_test, y_train, y_test = train_test_split(X1, sex, test_size=0.312, random_state=42)\n",
    "    acc = sex_classification(X_train, X_test, y_train, y_test)\n",
    "\n",
    "    X_train, X_test, y_train, y_test = train_test_split(X2, sex, test_size=0.312, random_state=42)\n",
    "    acc2 = sex_classification(X_train, X_test, y_train, y_test)\n",
    "    print(f\"Sex Classification Accuracy  UA: {round(acc, 4)}, MA: {round(acc2, 4)}\")\n"
   ]
  },
  {
   "cell_type": "code",
   "execution_count": 10,
   "metadata": {},
   "outputs": [
    {
     "name": "stdout",
     "output_type": "stream",
     "text": [
      "                  Multivariate linear model\n",
      "==============================================================\n",
      "                                                              \n",
      "--------------------------------------------------------------\n",
      "       Intercept        Value  Num DF   Den DF  F Value Pr > F\n",
      "--------------------------------------------------------------\n",
      "          Wilks' lambda 0.9517 4.0000 2900.0000 36.7786 0.0000\n",
      "         Pillai's trace 0.0483 4.0000 2900.0000 36.7786 0.0000\n",
      " Hotelling-Lawley trace 0.0507 4.0000 2900.0000 36.7786 0.0000\n",
      "    Roy's greatest root 0.0507 4.0000 2900.0000 36.7786 0.0000\n",
      "--------------------------------------------------------------\n",
      "                                                              \n",
      "--------------------------------------------------------------\n",
      "          Age           Value  Num DF   Den DF  F Value Pr > F\n",
      "--------------------------------------------------------------\n",
      "          Wilks' lambda 0.9450 4.0000 2900.0000 42.2087 0.0000\n",
      "         Pillai's trace 0.0550 4.0000 2900.0000 42.2087 0.0000\n",
      " Hotelling-Lawley trace 0.0582 4.0000 2900.0000 42.2087 0.0000\n",
      "    Roy's greatest root 0.0582 4.0000 2900.0000 42.2087 0.0000\n",
      "--------------------------------------------------------------\n",
      "                                                              \n",
      "--------------------------------------------------------------\n",
      "          Sex           Value  Num DF   Den DF  F Value Pr > F\n",
      "--------------------------------------------------------------\n",
      "          Wilks' lambda 0.9945 4.0000 2900.0000  3.9828 0.0032\n",
      "         Pillai's trace 0.0055 4.0000 2900.0000  3.9828 0.0032\n",
      " Hotelling-Lawley trace 0.0055 4.0000 2900.0000  3.9828 0.0032\n",
      "    Roy's greatest root 0.0055 4.0000 2900.0000  3.9828 0.0032\n",
      "--------------------------------------------------------------\n",
      "                                                              \n",
      "--------------------------------------------------------------\n",
      "        Age_Sex         Value  Num DF   Den DF  F Value Pr > F\n",
      "--------------------------------------------------------------\n",
      "          Wilks' lambda 0.9956 4.0000 2900.0000  3.1698 0.0131\n",
      "         Pillai's trace 0.0044 4.0000 2900.0000  3.1698 0.0131\n",
      " Hotelling-Lawley trace 0.0044 4.0000 2900.0000  3.1698 0.0131\n",
      "    Roy's greatest root 0.0044 4.0000 2900.0000  3.1698 0.0131\n",
      "==============================================================\n",
      "\n"
     ]
    }
   ],
   "source": [
    "# evaluate first subspace \n",
    "fit = MANOVA.from_formula('M1SCV1 + M1SCV2 + M2SCV1 + M2SCV2 ~ Age + Sex + Age_Sex', data=df)\n",
    "print(fit.mv_test())"
   ]
  },
  {
   "cell_type": "code",
   "execution_count": 11,
   "metadata": {},
   "outputs": [
    {
     "name": "stdout",
     "output_type": "stream",
     "text": [
      "                  Multivariate linear model\n",
      "==============================================================\n",
      "                                                              \n",
      "--------------------------------------------------------------\n",
      "       Intercept        Value  Num DF   Den DF  F Value Pr > F\n",
      "--------------------------------------------------------------\n",
      "          Wilks' lambda 0.9277 4.0000 2900.0000 56.4686 0.0000\n",
      "         Pillai's trace 0.0723 4.0000 2900.0000 56.4686 0.0000\n",
      " Hotelling-Lawley trace 0.0779 4.0000 2900.0000 56.4686 0.0000\n",
      "    Roy's greatest root 0.0779 4.0000 2900.0000 56.4686 0.0000\n",
      "--------------------------------------------------------------\n",
      "                                                              \n",
      "--------------------------------------------------------------\n",
      "          Age           Value  Num DF   Den DF  F Value Pr > F\n",
      "--------------------------------------------------------------\n",
      "          Wilks' lambda 0.9356 4.0000 2900.0000 49.8773 0.0000\n",
      "         Pillai's trace 0.0644 4.0000 2900.0000 49.8773 0.0000\n",
      " Hotelling-Lawley trace 0.0688 4.0000 2900.0000 49.8773 0.0000\n",
      "    Roy's greatest root 0.0688 4.0000 2900.0000 49.8773 0.0000\n",
      "--------------------------------------------------------------\n",
      "                                                              \n",
      "--------------------------------------------------------------\n",
      "          Sex           Value  Num DF   Den DF  F Value Pr > F\n",
      "--------------------------------------------------------------\n",
      "          Wilks' lambda 0.9982 4.0000 2900.0000  1.2825 0.2745\n",
      "         Pillai's trace 0.0018 4.0000 2900.0000  1.2825 0.2745\n",
      " Hotelling-Lawley trace 0.0018 4.0000 2900.0000  1.2825 0.2745\n",
      "    Roy's greatest root 0.0018 4.0000 2900.0000  1.2825 0.2745\n",
      "--------------------------------------------------------------\n",
      "                                                              \n",
      "--------------------------------------------------------------\n",
      "        Age_Sex         Value  Num DF   Den DF  F Value Pr > F\n",
      "--------------------------------------------------------------\n",
      "          Wilks' lambda 0.9990 4.0000 2900.0000  0.7120 0.5836\n",
      "         Pillai's trace 0.0010 4.0000 2900.0000  0.7120 0.5836\n",
      " Hotelling-Lawley trace 0.0010 4.0000 2900.0000  0.7120 0.5836\n",
      "    Roy's greatest root 0.0010 4.0000 2900.0000  0.7120 0.5836\n",
      "==============================================================\n",
      "\n"
     ]
    }
   ],
   "source": [
    "# evaluate second subspace \n",
    "fit = MANOVA.from_formula('M1SCV3 + M1SCV4 + M2SCV3 + M2SCV4 ~ Age + Sex + Age_Sex', data=df)\n",
    "print(fit.mv_test())"
   ]
  },
  {
   "cell_type": "code",
   "execution_count": 12,
   "metadata": {},
   "outputs": [
    {
     "name": "stdout",
     "output_type": "stream",
     "text": [
      "                  Multivariate linear model\n",
      "==============================================================\n",
      "                                                              \n",
      "--------------------------------------------------------------\n",
      "       Intercept        Value  Num DF   Den DF  F Value Pr > F\n",
      "--------------------------------------------------------------\n",
      "          Wilks' lambda 0.9634 4.0000 2900.0000 27.5207 0.0000\n",
      "         Pillai's trace 0.0366 4.0000 2900.0000 27.5207 0.0000\n",
      " Hotelling-Lawley trace 0.0380 4.0000 2900.0000 27.5207 0.0000\n",
      "    Roy's greatest root 0.0380 4.0000 2900.0000 27.5207 0.0000\n",
      "--------------------------------------------------------------\n",
      "                                                              \n",
      "--------------------------------------------------------------\n",
      "          Age           Value  Num DF   Den DF  F Value Pr > F\n",
      "--------------------------------------------------------------\n",
      "          Wilks' lambda 0.9400 4.0000 2900.0000 46.2604 0.0000\n",
      "         Pillai's trace 0.0600 4.0000 2900.0000 46.2604 0.0000\n",
      " Hotelling-Lawley trace 0.0638 4.0000 2900.0000 46.2604 0.0000\n",
      "    Roy's greatest root 0.0638 4.0000 2900.0000 46.2604 0.0000\n",
      "--------------------------------------------------------------\n",
      "                                                              \n",
      "--------------------------------------------------------------\n",
      "          Sex           Value  Num DF   Den DF  F Value Pr > F\n",
      "--------------------------------------------------------------\n",
      "          Wilks' lambda 0.9840 4.0000 2900.0000 11.7846 0.0000\n",
      "         Pillai's trace 0.0160 4.0000 2900.0000 11.7846 0.0000\n",
      " Hotelling-Lawley trace 0.0163 4.0000 2900.0000 11.7846 0.0000\n",
      "    Roy's greatest root 0.0163 4.0000 2900.0000 11.7846 0.0000\n",
      "--------------------------------------------------------------\n",
      "                                                              \n",
      "--------------------------------------------------------------\n",
      "        Age_Sex         Value  Num DF   Den DF  F Value Pr > F\n",
      "--------------------------------------------------------------\n",
      "          Wilks' lambda 0.9950 4.0000 2900.0000  3.6296 0.0059\n",
      "         Pillai's trace 0.0050 4.0000 2900.0000  3.6296 0.0059\n",
      " Hotelling-Lawley trace 0.0050 4.0000 2900.0000  3.6296 0.0059\n",
      "    Roy's greatest root 0.0050 4.0000 2900.0000  3.6296 0.0059\n",
      "==============================================================\n",
      "\n"
     ]
    }
   ],
   "source": [
    "# evaluate third subspace \n",
    "fit = MANOVA.from_formula('M1SCV5 + M1SCV6 + M2SCV5 + M2SCV6 ~ Age + Sex + Age_Sex', data=df)\n",
    "print(fit.mv_test())"
   ]
  },
  {
   "cell_type": "code",
   "execution_count": 13,
   "metadata": {},
   "outputs": [
    {
     "name": "stdout",
     "output_type": "stream",
     "text": [
      "                  Multivariate linear model\n",
      "==============================================================\n",
      "                                                              \n",
      "--------------------------------------------------------------\n",
      "       Intercept        Value  Num DF   Den DF  F Value Pr > F\n",
      "--------------------------------------------------------------\n",
      "          Wilks' lambda 0.9834 4.0000 2900.0000 12.2512 0.0000\n",
      "         Pillai's trace 0.0166 4.0000 2900.0000 12.2512 0.0000\n",
      " Hotelling-Lawley trace 0.0169 4.0000 2900.0000 12.2512 0.0000\n",
      "    Roy's greatest root 0.0169 4.0000 2900.0000 12.2512 0.0000\n",
      "--------------------------------------------------------------\n",
      "                                                              \n",
      "--------------------------------------------------------------\n",
      "          Age           Value  Num DF   Den DF  F Value Pr > F\n",
      "--------------------------------------------------------------\n",
      "          Wilks' lambda 0.9864 4.0000 2900.0000  9.9912 0.0000\n",
      "         Pillai's trace 0.0136 4.0000 2900.0000  9.9912 0.0000\n",
      " Hotelling-Lawley trace 0.0138 4.0000 2900.0000  9.9912 0.0000\n",
      "    Roy's greatest root 0.0138 4.0000 2900.0000  9.9912 0.0000\n",
      "--------------------------------------------------------------\n",
      "                                                              \n",
      "--------------------------------------------------------------\n",
      "          Sex           Value  Num DF   Den DF  F Value Pr > F\n",
      "--------------------------------------------------------------\n",
      "          Wilks' lambda 0.9970 4.0000 2900.0000  2.1825 0.0685\n",
      "         Pillai's trace 0.0030 4.0000 2900.0000  2.1825 0.0685\n",
      " Hotelling-Lawley trace 0.0030 4.0000 2900.0000  2.1825 0.0685\n",
      "    Roy's greatest root 0.0030 4.0000 2900.0000  2.1825 0.0685\n",
      "--------------------------------------------------------------\n",
      "                                                              \n",
      "--------------------------------------------------------------\n",
      "        Age_Sex         Value  Num DF   Den DF  F Value Pr > F\n",
      "--------------------------------------------------------------\n",
      "          Wilks' lambda 0.9989 4.0000 2900.0000  0.7647 0.5481\n",
      "         Pillai's trace 0.0011 4.0000 2900.0000  0.7647 0.5481\n",
      " Hotelling-Lawley trace 0.0011 4.0000 2900.0000  0.7647 0.5481\n",
      "    Roy's greatest root 0.0011 4.0000 2900.0000  0.7647 0.5481\n",
      "==============================================================\n",
      "\n"
     ]
    }
   ],
   "source": [
    "# evaluate forth subspace \n",
    "fit = MANOVA.from_formula('M1SCV7 + M1SCV8 + M2SCV7 + M2SCV8 ~ Age + Sex + Age_Sex', data=df)\n",
    "print(fit.mv_test())"
   ]
  },
  {
   "cell_type": "code",
   "execution_count": 14,
   "metadata": {},
   "outputs": [
    {
     "name": "stdout",
     "output_type": "stream",
     "text": [
      "                  Multivariate linear model\n",
      "==============================================================\n",
      "                                                              \n",
      "--------------------------------------------------------------\n",
      "       Intercept        Value  Num DF   Den DF  F Value Pr > F\n",
      "--------------------------------------------------------------\n",
      "          Wilks' lambda 0.9050 4.0000 2900.0000 76.0687 0.0000\n",
      "         Pillai's trace 0.0950 4.0000 2900.0000 76.0687 0.0000\n",
      " Hotelling-Lawley trace 0.1049 4.0000 2900.0000 76.0687 0.0000\n",
      "    Roy's greatest root 0.1049 4.0000 2900.0000 76.0687 0.0000\n",
      "--------------------------------------------------------------\n",
      "                                                              \n",
      "--------------------------------------------------------------\n",
      "          Age           Value  Num DF   Den DF  F Value Pr > F\n",
      "--------------------------------------------------------------\n",
      "          Wilks' lambda 0.9089 4.0000 2900.0000 72.6787 0.0000\n",
      "         Pillai's trace 0.0911 4.0000 2900.0000 72.6787 0.0000\n",
      " Hotelling-Lawley trace 0.1002 4.0000 2900.0000 72.6787 0.0000\n",
      "    Roy's greatest root 0.1002 4.0000 2900.0000 72.6787 0.0000\n",
      "--------------------------------------------------------------\n",
      "                                                              \n",
      "--------------------------------------------------------------\n",
      "          Sex           Value  Num DF   Den DF  F Value Pr > F\n",
      "--------------------------------------------------------------\n",
      "          Wilks' lambda 0.9967 4.0000 2900.0000  2.3647 0.0509\n",
      "         Pillai's trace 0.0033 4.0000 2900.0000  2.3647 0.0509\n",
      " Hotelling-Lawley trace 0.0033 4.0000 2900.0000  2.3647 0.0509\n",
      "    Roy's greatest root 0.0033 4.0000 2900.0000  2.3647 0.0509\n",
      "--------------------------------------------------------------\n",
      "                                                              \n",
      "--------------------------------------------------------------\n",
      "        Age_Sex         Value  Num DF   Den DF  F Value Pr > F\n",
      "--------------------------------------------------------------\n",
      "          Wilks' lambda 0.9984 4.0000 2900.0000  1.1327 0.3391\n",
      "         Pillai's trace 0.0016 4.0000 2900.0000  1.1327 0.3391\n",
      " Hotelling-Lawley trace 0.0016 4.0000 2900.0000  1.1327 0.3391\n",
      "    Roy's greatest root 0.0016 4.0000 2900.0000  1.1327 0.3391\n",
      "==============================================================\n",
      "\n"
     ]
    }
   ],
   "source": [
    "# evaluate fifth subspace \n",
    "fit = MANOVA.from_formula('M1SCV9 + M1SCV10 + M2SCV9 + M2SCV10 ~ Age + Sex + Age_Sex', data=df)\n",
    "print(fit.mv_test())"
   ]
  },
  {
   "cell_type": "code",
   "execution_count": 15,
   "metadata": {},
   "outputs": [
    {
     "name": "stdout",
     "output_type": "stream",
     "text": [
      "                 Generalized Linear Model Regression Results                  \n",
      "==============================================================================\n",
      "Dep. Variable:                M1SCV11   No. Observations:                 2907\n",
      "Model:                            GLM   Df Residuals:                     2903\n",
      "Model Family:                Gaussian   Df Model:                            3\n",
      "Link Function:               identity   Scale:                          2.5273\n",
      "Method:                          IRLS   Log-Likelihood:                -5470.5\n",
      "Date:                Tue, 25 Oct 2022   Deviance:                       7336.8\n",
      "Time:                        17:38:34   Pearson chi2:                 7.34e+03\n",
      "No. Iterations:                     3   Pseudo R-squ. (CS):            0.06912\n",
      "Covariance Type:            nonrobust                                         \n",
      "==============================================================================\n",
      "                 coef    std err          z      P>|z|      [0.025      0.975]\n",
      "------------------------------------------------------------------------------\n",
      "Intercept     -3.7667      0.355    -10.620      0.000      -4.462      -3.072\n",
      "Age            0.0585      0.006     10.424      0.000       0.047       0.069\n",
      "Sex            0.4716      0.506      0.931      0.352      -0.521       1.464\n",
      "Age_Sex       -0.0033      0.008     -0.401      0.688      -0.019       0.013\n",
      "==============================================================================\n"
     ]
    }
   ],
   "source": [
    "fit = smf.glm(formula='M1SCV11 ~ Age + Sex + Age_Sex', data=df).fit()\n",
    "print(fit.summary())"
   ]
  },
  {
   "cell_type": "code",
   "execution_count": 16,
   "metadata": {},
   "outputs": [
    {
     "name": "stdout",
     "output_type": "stream",
     "text": [
      "                 Generalized Linear Model Regression Results                  \n",
      "==============================================================================\n",
      "Dep. Variable:                M1SCV12   No. Observations:                 2907\n",
      "Model:                            GLM   Df Residuals:                     2903\n",
      "Model Family:                Gaussian   Df Model:                            3\n",
      "Link Function:               identity   Scale:                          2.7444\n",
      "Method:                          IRLS   Log-Likelihood:                -5590.2\n",
      "Date:                Tue, 25 Oct 2022   Deviance:                       7966.9\n",
      "Time:                        17:38:34   Pearson chi2:                 7.97e+03\n",
      "No. Iterations:                     3   Pseudo R-squ. (CS):            0.01431\n",
      "Covariance Type:            nonrobust                                         \n",
      "==============================================================================\n",
      "                 coef    std err          z      P>|z|      [0.025      0.975]\n",
      "------------------------------------------------------------------------------\n",
      "Intercept      1.9202      0.370      5.196      0.000       1.196       2.645\n",
      "Age           -0.0288      0.006     -4.932      0.000      -0.040      -0.017\n",
      "Sex           -1.2097      0.528     -2.292      0.022      -2.244      -0.175\n",
      "Age_Sex        0.0155      0.008      1.832      0.067      -0.001       0.032\n",
      "==============================================================================\n"
     ]
    }
   ],
   "source": [
    "fit = smf.glm(formula='M1SCV12 ~ Age + Sex + Age_Sex', data=df).fit()\n",
    "print(fit.summary())"
   ]
  },
  {
   "cell_type": "code",
   "execution_count": 17,
   "metadata": {},
   "outputs": [
    {
     "name": "stdout",
     "output_type": "stream",
     "text": [
      "                 Generalized Linear Model Regression Results                  \n",
      "==============================================================================\n",
      "Dep. Variable:                M2SCV11   No. Observations:                 2907\n",
      "Model:                            GLM   Df Residuals:                     2903\n",
      "Model Family:                Gaussian   Df Model:                            3\n",
      "Link Function:               identity   Scale:                          2.7349\n",
      "Method:                          IRLS   Log-Likelihood:                -5585.2\n",
      "Date:                Tue, 25 Oct 2022   Deviance:                       7939.3\n",
      "Time:                        17:38:34   Pearson chi2:                 7.94e+03\n",
      "No. Iterations:                     3   Pseudo R-squ. (CS):           0.005135\n",
      "Covariance Type:            nonrobust                                         \n",
      "==============================================================================\n",
      "                 coef    std err          z      P>|z|      [0.025      0.975]\n",
      "------------------------------------------------------------------------------\n",
      "Intercept     -0.1133      0.369     -0.307      0.759      -0.836       0.610\n",
      "Age            0.0036      0.006      0.614      0.539      -0.008       0.015\n",
      "Sex            0.4336      0.527      0.823      0.411      -0.599       1.466\n",
      "Age_Sex       -0.0106      0.008     -1.259      0.208      -0.027       0.006\n",
      "==============================================================================\n"
     ]
    }
   ],
   "source": [
    "fit = smf.glm(formula='M2SCV11 ~ Age + Sex + Age_Sex', data=df).fit()\n",
    "print(fit.summary())"
   ]
  },
  {
   "cell_type": "code",
   "execution_count": 18,
   "metadata": {},
   "outputs": [
    {
     "name": "stdout",
     "output_type": "stream",
     "text": [
      "                 Generalized Linear Model Regression Results                  \n",
      "==============================================================================\n",
      "Dep. Variable:                M2SCV12   No. Observations:                 2907\n",
      "Model:                            GLM   Df Residuals:                     2903\n",
      "Model Family:                Gaussian   Df Model:                            3\n",
      "Link Function:               identity   Scale:                          2.6013\n",
      "Method:                          IRLS   Log-Likelihood:                -5512.4\n",
      "Date:                Tue, 25 Oct 2022   Deviance:                       7551.7\n",
      "Time:                        17:38:34   Pearson chi2:                 7.55e+03\n",
      "No. Iterations:                     3   Pseudo R-squ. (CS):            0.01340\n",
      "Covariance Type:            nonrobust                                         \n",
      "==============================================================================\n",
      "                 coef    std err          z      P>|z|      [0.025      0.975]\n",
      "------------------------------------------------------------------------------\n",
      "Intercept     -1.4159      0.360     -3.935      0.000      -2.121      -0.711\n",
      "Age            0.0243      0.006      4.266      0.000       0.013       0.035\n",
      "Sex            0.2848      0.514      0.554      0.579      -0.722       1.292\n",
      "Age_Sex       -0.0076      0.008     -0.927      0.354      -0.024       0.008\n",
      "==============================================================================\n"
     ]
    }
   ],
   "source": [
    "fit = smf.glm(formula='M2SCV12 ~ Age + Sex + Age_Sex', data=df).fit()\n",
    "print(fit.summary())"
   ]
  },
  {
   "cell_type": "code",
   "execution_count": null,
   "metadata": {},
   "outputs": [],
   "source": []
  }
 ],
 "metadata": {
  "kernelspec": {
   "display_name": "Python 3.7.13 ('nhpseg')",
   "language": "python",
   "name": "python3"
  },
  "language_info": {
   "codemirror_mode": {
    "name": "ipython",
    "version": 3
   },
   "file_extension": ".py",
   "mimetype": "text/x-python",
   "name": "python",
   "nbconvert_exporter": "python",
   "pygments_lexer": "ipython3",
   "version": "3.7.13"
  },
  "orig_nbformat": 4,
  "vscode": {
   "interpreter": {
    "hash": "30c86d7e87117feea1cc08b035a94da7db90798447807219a06605c175b520ce"
   }
  }
 },
 "nbformat": 4,
 "nbformat_minor": 2
}
