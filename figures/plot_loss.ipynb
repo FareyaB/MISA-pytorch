{
 "cells": [
  {
   "cell_type": "code",
   "execution_count": 1,
   "metadata": {},
   "outputs": [],
   "source": [
    "import os\n",
    "import numpy as np\n",
    "import scipy.io as sio\n",
    "import matplotlib.pyplot as plt"
   ]
  },
  {
   "cell_type": "code",
   "execution_count": 2,
   "metadata": {},
   "outputs": [],
   "source": [
    "seed_list = [7, 14, 21]\n",
    "dataset_list = [2, 12, 32, 100]\n",
    "source_list = [12, 32, 100]\n",
    "sample_list = [64, 256, 1024, 4096, 16384, 32768]\n",
    "w_list = ['wpca', 'w0', 'w1']\n",
    "aux_list = ['aux', 'aux0', 'aux1']\n",
    "isi_list = ['isi', 'isi0', 'isi1']\n",
    "\n",
    "datadir = '/Users/xli77/Documents/MISA/MISA-data/torch'\n",
    "loss_mat = np.zeros([len(dataset_list), len(source_list), len(sample_list), len(seed_list), len(w_list) ])\n",
    "\n",
    "for i, n_dataset in enumerate(dataset_list):\n",
    "    for j, n_source in enumerate(source_list):\n",
    "        if (n_dataset==32 and n_source==100) or (n_dataset==100 and n_source==32) or (n_dataset==100 and n_source==100):\n",
    "            continue\n",
    "        for k, n_sample in enumerate(sample_list):\n",
    "            if (n_source > n_sample) or (n_dataset > n_sample):\n",
    "                continue\n",
    "            for m, w in enumerate(w_list):\n",
    "                for n, seed in enumerate(seed_list):\n",
    "                    datapath=os.path.join(datadir, f'out-siva_dataset{n_dataset}_source{n_source}_sample{n_sample}_seed{seed}_{w}')\n",
    "                    loss_mat[i,j,k,m,n]=float(sio.loadmat(datapath)[aux_list[m]][1,0])"
   ]
  },
  {
   "cell_type": "code",
   "execution_count": 3,
   "metadata": {},
   "outputs": [],
   "source": [
    "loss_py=np.load(\"/Users/xli77/Documents/MISA-pytorch/run/checkpoints/sim-siva/misa_mat_sim-siva_loss_all.npy\")"
   ]
  },
  {
   "cell_type": "code",
   "execution_count": 5,
   "metadata": {},
   "outputs": [],
   "source": [
    "valid_ind = loss_py.flatten()!=0\n",
    "loss_py_valid = loss_py.flatten()[valid_ind]\n",
    "loss_mat_valid = loss_mat.flatten()[valid_ind]"
   ]
  },
  {
   "cell_type": "code",
   "execution_count": 20,
   "metadata": {},
   "outputs": [
    {
     "data": {
      "text/plain": [
       "Text(0.5, 1.0, 'Loss')"
      ]
     },
     "execution_count": 20,
     "metadata": {},
     "output_type": "execute_result"
    },
    {
     "data": {
      "image/png": "[encoded data removed]",
      "text/plain": [
       "<Figure size 432x288 with 1 Axes>"
      ]
     },
     "metadata": {
      "needs_background": "light"
     },
     "output_type": "display_data"
    }
   ],
   "source": [
    "plt.plot(range(6000),range(6000),'--',c='cornflowerblue',alpha=0.5)\n",
    "plt.scatter(loss_mat_valid,loss_py_valid,edgecolors='cornflowerblue',facecolors='none',marker='o')\n",
    "plt.axis('square')\n",
    "plt.xlabel(\"MATLAB\")\n",
    "plt.ylabel(\"Python\")\n",
    "plt.title(\"Loss\")"
   ]
  }
 ],
 "metadata": {
  "kernelspec": {
   "display_name": "Python 3.7.13 ('nhpseg')",
   "language": "python",
   "name": "python3"
  },
  "language_info": {
   "codemirror_mode": {
    "name": "ipython",
    "version": 3
   },
   "file_extension": ".py",
   "mimetype": "text/x-python",
   "name": "python",
   "nbconvert_exporter": "python",
   "pygments_lexer": "ipython3",
   "version": "3.7.13"
  },
  "orig_nbformat": 4,
  "vscode": {
   "interpreter": {
    "hash": "30c86d7e87117feea1cc08b035a94da7db90798447807219a06605c175b520ce"
   }
  }
 },
 "nbformat": 4,
 "nbformat_minor": 2
}
