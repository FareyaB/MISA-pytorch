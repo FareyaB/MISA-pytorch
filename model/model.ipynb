{
 "cells": [
  {
   "cell_type": "markdown",
   "metadata": {},
   "source": [
    "Library imports/Setup"
   ]
  },
  {
   "cell_type": "code",
   "execution_count": 1,
   "metadata": {},
   "outputs": [],
   "source": [
    "from modulefinder import Module\n",
    "from tkinter import Y\n",
    "import torch\n",
    "import torch.nn as nn\n",
    "import numpy"
   ]
  },
  {
   "cell_type": "markdown",
   "metadata": {},
   "source": [
    "__init__() for class LinearModel(nn.Module)"
   ]
  },
  {
   "cell_type": "code",
   "execution_count": 2,
   "metadata": {},
   "outputs": [],
   "source": [
    "class LinearModel(nn.Module):\n",
    "    def __init__(self, input = 1, output = 1, number_models = 1, bias = False):\n",
    "        super(LinearModel, self).__init__()\n",
    "        self.input = input\n",
    "        self.output = output\n",
    "        self.number_models = number_models\n",
    "        self.linears = nn.ModuleList([nn.Linear(self.input, self.output, bias) for i in range(self.number_models)])\n",
    "        self.epoch = 0"
   ]
  },
  {
   "cell_type": "markdown",
   "metadata": {},
   "source": [
    "Version 1 of forward() function {Also known as forward3()}\n",
    "\n",
    "Notes: ModuleList can act as an iterable, or be indexed using ints & Assume x is a list like self.linears (same elements)"
   ]
  },
  {
   "cell_type": "code",
   "execution_count": 8,
   "metadata": {},
   "outputs": [],
   "source": [
    "def forward3(self, x):\n",
    "    y = [self.linears[i](x[i]) for i, l in enumerate(self.linears)]# \n",
    "    output = [y[i] for i, l in enumerate(self.linears)]\n",
    "    return output"
   ]
  },
  {
   "cell_type": "markdown",
   "metadata": {},
   "source": [
    "Version 2 of forward() function {Also known as forward2()}"
   ]
  },
  {
   "cell_type": "code",
   "execution_count": 9,
   "metadata": {},
   "outputs": [],
   "source": [
    "def forward2(self, x):\n",
    "        self.y2 = [l(x[m]) for m, l in enumerate(self.linears)]\n",
    "        # self.y2 = [l(torch.tensor(x)) for _, l in enumerate(self.linears)]\n",
    "        # return x"
   ]
  },
  {
   "cell_type": "markdown",
   "metadata": {},
   "source": [
    "Version 3 of forward() function"
   ]
  },
  {
   "cell_type": "code",
   "execution_count": 19,
   "metadata": {},
   "outputs": [],
   "source": [
    "def forward(self, x):\n",
    "        # param_list = [p for p in model.parameters()]\n",
    "        # beg = [x[q] for q in enumerate(x)]\n",
    "        # if beg @ param_list[0]:\n",
    "        assert(1 + 1)\n",
    "        self.y = []\n",
    "        for i, l in enumerate(self.linears):\n",
    "            a = self.linears[i](x[i])\n",
    "            self.y.append(a)\n",
    "        # else:\n",
    "            # pass\n",
    "            # self.epoch += 1\n",
    "        # return self.y\n",
    "        # self.y = self.y + [l(x[i]) for i, l in enumerate(self.linears)] \n",
    "            # output = self.y[l]\n",
    "            # result = list(torch.detach(output))\n",
    "            # self.y = result\n",
    "        # return self.y\n",
    "        # for n in result:\n",
    "        # result_list = list(result[n])\n",
    "        # return result_list"
   ]
  },
  {
   "cell_type": "markdown",
   "metadata": {},
   "source": [
    "Loss function"
   ]
  },
  {
   "cell_type": "code",
   "execution_count": 12,
   "metadata": {},
   "outputs": [
    {
     "ename": "SyntaxError",
     "evalue": "invalid syntax (<ipython-input-12-57ca345505cc>, line 1)",
     "output_type": "error",
     "traceback": [
      "\u001b[0;36m  Input \u001b[0;32mIn [12]\u001b[0;36m\u001b[0m\n\u001b[0;31m    def loss(self.y):\u001b[0m\n\u001b[0m                 ^\u001b[0m\n\u001b[0;31mSyntaxError\u001b[0m\u001b[0;31m:\u001b[0m invalid syntax\n"
     ]
    }
   ],
   "source": [
    "def loss(self.y):\n",
    "        if epoch % 10 = 0:\n",
    "            loss = torch.nn.CrossEntropyLoss(self.y)\n",
    "            return loss\n",
    "        else:\n",
    "           pass"
   ]
  },
  {
   "cell_type": "markdown",
   "metadata": {},
   "source": [
    "Executables"
   ]
  },
  {
   "cell_type": "code",
   "execution_count": 11,
   "metadata": {},
   "outputs": [
    {
     "ename": "NotImplementedError",
     "evalue": "",
     "output_type": "error",
     "traceback": [
      "\u001b[0;31m---------------------------------------------------------------------------\u001b[0m",
      "\u001b[0;31mNotImplementedError\u001b[0m                       Traceback (most recent call last)",
      "\u001b[1;32m/data/users2/dkhosravinezhad1/MISA-pytorch/model/model.ipynb Cell 14'\u001b[0m in \u001b[0;36m<cell line: 4>\u001b[0;34m()\u001b[0m\n\u001b[1;32m      <a href='vscode-notebook-cell://ssh-remote%2Bdevtrends01/data/users2/dkhosravinezhad1/MISA-pytorch/model/model.ipynb#ch0000013vscode-remote?line=1'>2</a>\u001b[0m x \u001b[39m=\u001b[39m [torch\u001b[39m.\u001b[39mones(\u001b[39m1\u001b[39m,\u001b[39m2\u001b[39m) \u001b[39mfor\u001b[39;00m m \u001b[39min\u001b[39;00m \u001b[39mrange\u001b[39m(\u001b[39m2\u001b[39m)]\n\u001b[1;32m      <a href='vscode-notebook-cell://ssh-remote%2Bdevtrends01/data/users2/dkhosravinezhad1/MISA-pytorch/model/model.ipynb#ch0000013vscode-remote?line=2'>3</a>\u001b[0m model \u001b[39m=\u001b[39m LinearModel(\u001b[39minput\u001b[39m \u001b[39m=\u001b[39m \u001b[39m2\u001b[39m, output \u001b[39m=\u001b[39m \u001b[39m3\u001b[39m, number_models \u001b[39m=\u001b[39m \u001b[39m2\u001b[39m)\n\u001b[0;32m----> <a href='vscode-notebook-cell://ssh-remote%2Bdevtrends01/data/users2/dkhosravinezhad1/MISA-pytorch/model/model.ipynb#ch0000013vscode-remote?line=3'>4</a>\u001b[0m model\u001b[39m.\u001b[39;49mforward(x)\n\u001b[1;32m      <a href='vscode-notebook-cell://ssh-remote%2Bdevtrends01/data/users2/dkhosravinezhad1/MISA-pytorch/model/model.ipynb#ch0000013vscode-remote?line=4'>5</a>\u001b[0m \u001b[39mprint\u001b[39m(\u001b[39m\"\u001b[39m\u001b[39mOutput forward 1: \u001b[39m\u001b[39m\"\u001b[39m \u001b[39m+\u001b[39m \u001b[39mstr\u001b[39m(model\u001b[39m.\u001b[39my))\n\u001b[1;32m      <a href='vscode-notebook-cell://ssh-remote%2Bdevtrends01/data/users2/dkhosravinezhad1/MISA-pytorch/model/model.ipynb#ch0000013vscode-remote?line=5'>6</a>\u001b[0m model\u001b[39m.\u001b[39mforward2(x)\n",
      "File \u001b[0;32m/data/users2/dkhosravinezhad1/anaconda3/envs/ipy/lib/python3.8/site-packages/torch/nn/modules/module.py:201\u001b[0m, in \u001b[0;36m_forward_unimplemented\u001b[0;34m(self, *input)\u001b[0m\n\u001b[1;32m    190\u001b[0m \u001b[39mdef\u001b[39;00m \u001b[39m_forward_unimplemented\u001b[39m(\u001b[39mself\u001b[39m, \u001b[39m*\u001b[39m\u001b[39minput\u001b[39m: Any) \u001b[39m-\u001b[39m\u001b[39m>\u001b[39m \u001b[39mNone\u001b[39;00m:\n\u001b[1;32m    191\u001b[0m     \u001b[39mr\u001b[39m\u001b[39m\"\"\"Defines the computation performed at every call.\u001b[39;00m\n\u001b[1;32m    192\u001b[0m \n\u001b[1;32m    193\u001b[0m \u001b[39m    Should be overridden by all subclasses.\u001b[39;00m\n\u001b[0;32m   (...)\u001b[0m\n\u001b[1;32m    199\u001b[0m \u001b[39m        registered hooks while the latter silently ignores them.\u001b[39;00m\n\u001b[1;32m    200\u001b[0m \u001b[39m    \"\"\"\u001b[39;00m\n\u001b[0;32m--> 201\u001b[0m     \u001b[39mraise\u001b[39;00m \u001b[39mNotImplementedError\u001b[39;00m\n",
      "\u001b[0;31mNotImplementedError\u001b[0m: "
     ]
    }
   ],
   "source": [
    "# x = [torch.randn(6,1) for k in range(5)]\n",
    "x = [torch.ones(1,2) for m in range(2)]\n",
    "model = LinearModel(input = 2, output = 3, number_models = 2)\n",
    "model.forward(x)\n",
    "print(\"Output forward 1: \" + str(model.y))\n",
    "model.forward2(x)\n",
    "print(\"Output model.y: \" + str(model.y2))\n",
    "print(\"X matrix: \" + str(x))"
   ]
  },
  {
   "cell_type": "markdown",
   "metadata": {},
   "source": [
    "To Do list:\n",
    "1. Make a loss function\n",
    "2. Set up arguments to pass before executing for loops\n",
    "3. Make each module 2 layers deep\n",
    "4. Set up epochs and arguments to pass for said epochs\n",
    "5. Set up a seed() to stabalize stuff\n",
    "6. Debug and make sure everything works together"
   ]
  }
 ],
 "metadata": {
  "kernelspec": {
   "display_name": "Python 3.8.12 ('ipy')",
   "language": "python",
   "name": "python3"
  },
  "language_info": {
   "codemirror_mode": {
    "name": "ipython",
    "version": 3
   },
   "file_extension": ".py",
   "mimetype": "text/x-python",
   "name": "python",
   "nbconvert_exporter": "python",
   "pygments_lexer": "ipython3",
   "version": "3.8.12"
  },
  "orig_nbformat": 4,
  "vscode": {
   "interpreter": {
    "hash": "7a6bedd3509665544335308e415059c0a09ae1dacea269d4d09537be5f92701a"
   }
  }
 },
 "nbformat": 4,
 "nbformat_minor": 2
}
